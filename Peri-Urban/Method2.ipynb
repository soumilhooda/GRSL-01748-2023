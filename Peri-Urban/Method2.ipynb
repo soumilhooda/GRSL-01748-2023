{
 "cells": [
  {
   "cell_type": "markdown",
   "metadata": {},
   "source": [
    "# Method 2\n",
    "\n",
    "## Population Estimation\n",
    "\n",
    "Here we are going to develop population estimates using the 2011 Census and NTL for 2013. \n",
    "We will derive a non-linear equation between 2011 POP and 2013 NTL. \n",
    "Possible methods are a neural network or genetic algorithm.\n",
    "\n",
    "We shall then apply our derived equation to newer NTL to get estimates of POPULATION. \n",
    "This shall be a verification exercise for our Method 1."
   ]
  },
  {
   "cell_type": "code",
   "execution_count": 159,
   "metadata": {},
   "outputs": [],
   "source": [
    "import pandas as pd\n",
    "import numpy as np\n",
    "from pandas_profiling import ProfileReport"
   ]
  },
  {
   "cell_type": "code",
   "execution_count": 160,
   "metadata": {},
   "outputs": [],
   "source": [
    "Data2011 = pd.read_csv(\"RecreatePopulation/pop.ascii\",delim_whitespace=\" \",header=None)\n",
    "\n",
    "features = ['LAT','LON','POP','NTL']\n",
    "\n",
    "Data2011.columns=features"
   ]
  },
  {
   "cell_type": "code",
   "execution_count": 161,
   "metadata": {},
   "outputs": [
    {
     "name": "stderr",
     "output_type": "stream",
     "text": [
      "Summarize dataset: 100%|██████████| 33/33 [00:07<00:00,  4.29it/s, Completed]                    \n",
      "Generate report structure: 100%|██████████| 1/1 [00:01<00:00,  1.42s/it]\n",
      "Render HTML: 100%|██████████| 1/1 [00:00<00:00,  1.78it/s]\n",
      "Export report to file: 100%|██████████| 1/1 [00:00<00:00, 294.92it/s]\n"
     ]
    }
   ],
   "source": [
    "profilePOP2011 = ProfileReport(Data2011, title=\"2011\")\n",
    "profilePOP2011.to_file(\"Pop2011.html\")"
   ]
  },
  {
   "cell_type": "markdown",
   "metadata": {},
   "source": [
    "# Neural Network based Regression\n",
    " \n",
    " Performed on log values first."
   ]
  },
  {
   "cell_type": "code",
   "execution_count": 162,
   "metadata": {},
   "outputs": [],
   "source": [
    "import math\n",
    "import tensorflow as tf\n",
    "import matplotlib.pyplot as plt\n",
    "from tensorflow.keras import Model\n",
    "from tensorflow.keras import Sequential\n",
    "from tensorflow.keras.optimizers import Adam\n",
    "from sklearn.preprocessing import StandardScaler\n",
    "from tensorflow.keras.layers import Dense, Dropout\n",
    "from sklearn.model_selection import train_test_split\n",
    "from tensorflow.keras.losses import MeanSquaredError"
   ]
  },
  {
   "cell_type": "code",
   "execution_count": 163,
   "metadata": {},
   "outputs": [],
   "source": [
    "Data2011_Log = Data2011[['LAT','LON']].copy()\n",
    "none = [None]*6194\n",
    "Data2011_Log['POP']=none\n",
    "Data2011_Log['NTL']=none"
   ]
  },
  {
   "cell_type": "code",
   "execution_count": 164,
   "metadata": {},
   "outputs": [
    {
     "name": "stderr",
     "output_type": "stream",
     "text": [
      "/Applications/anaconda3/envs/ML_env/lib/python3.7/site-packages/pandas/core/indexing.py:1732: SettingWithCopyWarning: \n",
      "A value is trying to be set on a copy of a slice from a DataFrame\n",
      "\n",
      "See the caveats in the documentation: https://pandas.pydata.org/pandas-docs/stable/user_guide/indexing.html#returning-a-view-versus-a-copy\n",
      "  self._setitem_single_block(indexer, value, name)\n"
     ]
    }
   ],
   "source": [
    "for i in range(6194):\n",
    "    for x in ['POP','NTL']:\n",
    "        Data2011_Log[x].loc[i] = math.log10(Data2011[x].loc[i])"
   ]
  },
  {
   "cell_type": "code",
   "execution_count": 165,
   "metadata": {},
   "outputs": [],
   "source": [
    "ntltrain, ntltest, poptrain, poptest = train_test_split(Data2011_Log['NTL'],Data2011_Log['POP'], test_size=0.3, random_state=0, shuffle=True)"
   ]
  },
  {
   "cell_type": "code",
   "execution_count": 166,
   "metadata": {},
   "outputs": [],
   "source": [
    "hidden_units2 = 200\n",
    "hidden_units3 = 100\n",
    "learning_rate = 0.01\n",
    "\n",
    "def build_model_using_sequential():\n",
    "  model = Sequential([\n",
    "    Dense(hidden_units2, kernel_initializer='normal', activation='relu'),\n",
    "    Dropout(0.2),\n",
    "    Dense(hidden_units3, kernel_initializer='normal', activation='relu'),\n",
    "    Dense(1, kernel_initializer='normal', activation='linear')\n",
    "  ])\n",
    "  return model\n",
    "\n",
    "model = build_model_using_sequential()"
   ]
  },
  {
   "cell_type": "code",
   "execution_count": 167,
   "metadata": {},
   "outputs": [],
   "source": [
    "ntltrain = np.asarray(ntltrain).astype('float64')\n",
    "poptrain = np.asarray(poptrain).astype('float64')"
   ]
  },
  {
   "cell_type": "code",
   "execution_count": 168,
   "metadata": {},
   "outputs": [
    {
     "name": "stdout",
     "output_type": "stream",
     "text": [
      "Train on 3901 samples, validate on 434 samples\n",
      "Epoch 1/100\n",
      "3901/3901 [==============================] - 2s 411us/sample - loss: 0.4433 - mean_squared_error: 0.4430 - val_loss: 0.1454 - val_mean_squared_error: 0.1427\n",
      "Epoch 2/100\n",
      "3901/3901 [==============================] - 0s 121us/sample - loss: 0.1452 - mean_squared_error: 0.1451 - val_loss: 0.1593 - val_mean_squared_error: 0.1562\n",
      "Epoch 3/100\n",
      "3901/3901 [==============================] - 0s 124us/sample - loss: 0.1407 - mean_squared_error: 0.1406 - val_loss: 0.1551 - val_mean_squared_error: 0.1528\n",
      "Epoch 4/100\n",
      "3901/3901 [==============================] - 0s 121us/sample - loss: 0.1496 - mean_squared_error: 0.1496 - val_loss: 0.1519 - val_mean_squared_error: 0.1496\n",
      "Epoch 5/100\n",
      "3901/3901 [==============================] - 0s 120us/sample - loss: 0.1497 - mean_squared_error: 0.1497 - val_loss: 0.1346 - val_mean_squared_error: 0.1320\n",
      "Epoch 6/100\n",
      "3901/3901 [==============================] - 0s 121us/sample - loss: 0.1374 - mean_squared_error: 0.1374 - val_loss: 0.1342 - val_mean_squared_error: 0.1315\n",
      "Epoch 7/100\n",
      "3901/3901 [==============================] - 0s 121us/sample - loss: 0.1387 - mean_squared_error: 0.1387 - val_loss: 0.1689 - val_mean_squared_error: 0.1667\n",
      "Epoch 8/100\n",
      "3901/3901 [==============================] - 0s 121us/sample - loss: 0.1345 - mean_squared_error: 0.1345 - val_loss: 0.1382 - val_mean_squared_error: 0.1356\n",
      "Epoch 9/100\n",
      "3901/3901 [==============================] - 0s 120us/sample - loss: 0.1297 - mean_squared_error: 0.1296 - val_loss: 0.1344 - val_mean_squared_error: 0.1315\n",
      "Epoch 10/100\n",
      "3901/3901 [==============================] - 0s 119us/sample - loss: 0.1298 - mean_squared_error: 0.1299 - val_loss: 0.1373 - val_mean_squared_error: 0.1347\n",
      "Epoch 11/100\n",
      "3901/3901 [==============================] - 0s 121us/sample - loss: 0.1290 - mean_squared_error: 0.1290 - val_loss: 0.1354 - val_mean_squared_error: 0.1328\n",
      "Epoch 12/100\n",
      "3901/3901 [==============================] - 0s 121us/sample - loss: 0.1286 - mean_squared_error: 0.1286 - val_loss: 0.1352 - val_mean_squared_error: 0.1326\n",
      "Epoch 13/100\n",
      "3901/3901 [==============================] - 0s 120us/sample - loss: 0.1336 - mean_squared_error: 0.1338 - val_loss: 0.1521 - val_mean_squared_error: 0.1498\n",
      "Epoch 14/100\n",
      "3901/3901 [==============================] - 0s 119us/sample - loss: 0.1323 - mean_squared_error: 0.1323 - val_loss: 0.1471 - val_mean_squared_error: 0.1441\n",
      "Epoch 15/100\n",
      "3901/3901 [==============================] - 1s 138us/sample - loss: 0.1333 - mean_squared_error: 0.1332 - val_loss: 0.1528 - val_mean_squared_error: 0.1498\n",
      "Epoch 16/100\n",
      "3901/3901 [==============================] - 0s 118us/sample - loss: 0.1312 - mean_squared_error: 0.1312 - val_loss: 0.1570 - val_mean_squared_error: 0.1550\n",
      "Epoch 17/100\n",
      "3901/3901 [==============================] - 0s 120us/sample - loss: 0.1297 - mean_squared_error: 0.1297 - val_loss: 0.1367 - val_mean_squared_error: 0.1341\n",
      "Epoch 18/100\n",
      "3901/3901 [==============================] - 0s 120us/sample - loss: 0.1310 - mean_squared_error: 0.1310 - val_loss: 0.1332 - val_mean_squared_error: 0.1304\n",
      "Epoch 19/100\n",
      "3901/3901 [==============================] - 0s 119us/sample - loss: 0.1325 - mean_squared_error: 0.1326 - val_loss: 0.1377 - val_mean_squared_error: 0.1352\n",
      "Epoch 20/100\n",
      "3901/3901 [==============================] - 0s 120us/sample - loss: 0.1330 - mean_squared_error: 0.1329 - val_loss: 0.1324 - val_mean_squared_error: 0.1297\n",
      "Epoch 21/100\n",
      "3901/3901 [==============================] - 0s 119us/sample - loss: 0.1318 - mean_squared_error: 0.1319 - val_loss: 0.1392 - val_mean_squared_error: 0.1364\n",
      "Epoch 22/100\n",
      "3901/3901 [==============================] - 0s 119us/sample - loss: 0.1304 - mean_squared_error: 0.1303 - val_loss: 0.1351 - val_mean_squared_error: 0.1322\n",
      "Epoch 23/100\n",
      "3901/3901 [==============================] - 0s 120us/sample - loss: 0.1327 - mean_squared_error: 0.1327 - val_loss: 0.1575 - val_mean_squared_error: 0.1546\n",
      "Epoch 24/100\n",
      "3901/3901 [==============================] - 0s 120us/sample - loss: 0.1348 - mean_squared_error: 0.1348 - val_loss: 0.1849 - val_mean_squared_error: 0.1820\n",
      "Epoch 25/100\n",
      "3901/3901 [==============================] - 0s 122us/sample - loss: 0.1355 - mean_squared_error: 0.1355 - val_loss: 0.1778 - val_mean_squared_error: 0.1747\n",
      "Epoch 26/100\n",
      "3901/3901 [==============================] - 0s 121us/sample - loss: 0.1380 - mean_squared_error: 0.1379 - val_loss: 0.1402 - val_mean_squared_error: 0.1372\n",
      "Epoch 27/100\n",
      "3901/3901 [==============================] - 0s 121us/sample - loss: 0.1356 - mean_squared_error: 0.1357 - val_loss: 0.1420 - val_mean_squared_error: 0.1390\n",
      "Epoch 28/100\n",
      "3901/3901 [==============================] - 0s 120us/sample - loss: 0.1415 - mean_squared_error: 0.1415 - val_loss: 0.1381 - val_mean_squared_error: 0.1353\n",
      "Epoch 29/100\n",
      "3901/3901 [==============================] - 0s 123us/sample - loss: 0.1288 - mean_squared_error: 0.1288 - val_loss: 0.1453 - val_mean_squared_error: 0.1429\n",
      "Epoch 30/100\n",
      "3901/3901 [==============================] - 0s 122us/sample - loss: 0.1312 - mean_squared_error: 0.1312 - val_loss: 0.1340 - val_mean_squared_error: 0.1313\n",
      "Epoch 31/100\n",
      "3901/3901 [==============================] - 0s 121us/sample - loss: 0.1301 - mean_squared_error: 0.1301 - val_loss: 0.1345 - val_mean_squared_error: 0.1318\n",
      "Epoch 32/100\n",
      "3901/3901 [==============================] - 1s 133us/sample - loss: 0.1347 - mean_squared_error: 0.1347 - val_loss: 0.1372 - val_mean_squared_error: 0.1343\n",
      "Epoch 33/100\n",
      "3901/3901 [==============================] - 1s 141us/sample - loss: 0.1300 - mean_squared_error: 0.1300 - val_loss: 0.1394 - val_mean_squared_error: 0.1364\n",
      "Epoch 34/100\n",
      "3901/3901 [==============================] - 1s 141us/sample - loss: 0.1277 - mean_squared_error: 0.1277 - val_loss: 0.1483 - val_mean_squared_error: 0.1454\n",
      "Epoch 35/100\n",
      "3901/3901 [==============================] - 1s 134us/sample - loss: 0.1309 - mean_squared_error: 0.1309 - val_loss: 0.1430 - val_mean_squared_error: 0.1400\n",
      "Epoch 36/100\n",
      "3901/3901 [==============================] - 0s 128us/sample - loss: 0.1300 - mean_squared_error: 0.1300 - val_loss: 0.1347 - val_mean_squared_error: 0.1318\n",
      "Epoch 37/100\n",
      "3901/3901 [==============================] - 1s 153us/sample - loss: 0.1309 - mean_squared_error: 0.1309 - val_loss: 0.1700 - val_mean_squared_error: 0.1682\n",
      "Epoch 38/100\n",
      "3901/3901 [==============================] - 1s 141us/sample - loss: 0.1320 - mean_squared_error: 0.1319 - val_loss: 0.1335 - val_mean_squared_error: 0.1307\n",
      "Epoch 39/100\n",
      "3901/3901 [==============================] - 1s 129us/sample - loss: 0.1296 - mean_squared_error: 0.1297 - val_loss: 0.1447 - val_mean_squared_error: 0.1418\n",
      "Epoch 40/100\n",
      "3901/3901 [==============================] - 0s 117us/sample - loss: 0.1312 - mean_squared_error: 0.1312 - val_loss: 0.1369 - val_mean_squared_error: 0.1340\n",
      "Epoch 41/100\n",
      "3901/3901 [==============================] - 0s 119us/sample - loss: 0.1377 - mean_squared_error: 0.1377 - val_loss: 0.1507 - val_mean_squared_error: 0.1484\n",
      "Epoch 42/100\n",
      "3901/3901 [==============================] - 0s 121us/sample - loss: 0.1293 - mean_squared_error: 0.1292 - val_loss: 0.1338 - val_mean_squared_error: 0.1309\n",
      "Epoch 43/100\n",
      "3901/3901 [==============================] - 0s 127us/sample - loss: 0.1305 - mean_squared_error: 0.1305 - val_loss: 0.1350 - val_mean_squared_error: 0.1322\n",
      "Epoch 44/100\n",
      "3901/3901 [==============================] - 0s 118us/sample - loss: 0.1319 - mean_squared_error: 0.1319 - val_loss: 0.1383 - val_mean_squared_error: 0.1354\n",
      "Epoch 45/100\n",
      "3901/3901 [==============================] - 0s 119us/sample - loss: 0.1287 - mean_squared_error: 0.1286 - val_loss: 0.1406 - val_mean_squared_error: 0.1381\n",
      "Epoch 46/100\n",
      "3901/3901 [==============================] - 0s 118us/sample - loss: 0.1295 - mean_squared_error: 0.1294 - val_loss: 0.1374 - val_mean_squared_error: 0.1346\n",
      "Epoch 47/100\n",
      "3901/3901 [==============================] - 0s 123us/sample - loss: 0.1263 - mean_squared_error: 0.1264 - val_loss: 0.1394 - val_mean_squared_error: 0.1365\n",
      "Epoch 48/100\n",
      "3901/3901 [==============================] - 0s 117us/sample - loss: 0.1281 - mean_squared_error: 0.1281 - val_loss: 0.1353 - val_mean_squared_error: 0.1327\n",
      "Epoch 49/100\n",
      "3901/3901 [==============================] - 0s 125us/sample - loss: 0.1290 - mean_squared_error: 0.1290 - val_loss: 0.1434 - val_mean_squared_error: 0.1404\n",
      "Epoch 50/100\n",
      "3901/3901 [==============================] - 1s 201us/sample - loss: 0.1285 - mean_squared_error: 0.1286 - val_loss: 0.1572 - val_mean_squared_error: 0.1549\n",
      "Epoch 51/100\n",
      "3901/3901 [==============================] - 1s 156us/sample - loss: 0.1294 - mean_squared_error: 0.1295 - val_loss: 0.1362 - val_mean_squared_error: 0.1334\n",
      "Epoch 52/100\n",
      "3901/3901 [==============================] - 1s 138us/sample - loss: 0.1300 - mean_squared_error: 0.1302 - val_loss: 0.1418 - val_mean_squared_error: 0.1388\n",
      "Epoch 53/100\n",
      "3901/3901 [==============================] - 1s 145us/sample - loss: 0.1284 - mean_squared_error: 0.1283 - val_loss: 0.1327 - val_mean_squared_error: 0.1299\n",
      "Epoch 54/100\n",
      "3901/3901 [==============================] - 1s 163us/sample - loss: 0.1284 - mean_squared_error: 0.1284 - val_loss: 0.1327 - val_mean_squared_error: 0.1299\n",
      "Epoch 55/100\n",
      "3901/3901 [==============================] - 0s 123us/sample - loss: 0.1299 - mean_squared_error: 0.1299 - val_loss: 0.1388 - val_mean_squared_error: 0.1363\n",
      "Epoch 56/100\n",
      "3901/3901 [==============================] - 1s 129us/sample - loss: 0.1264 - mean_squared_error: 0.1265 - val_loss: 0.1356 - val_mean_squared_error: 0.1330\n",
      "Epoch 57/100\n",
      "3901/3901 [==============================] - 0s 126us/sample - loss: 0.1270 - mean_squared_error: 0.1270 - val_loss: 0.1338 - val_mean_squared_error: 0.1311\n",
      "Epoch 58/100\n",
      "3901/3901 [==============================] - 1s 143us/sample - loss: 0.1296 - mean_squared_error: 0.1296 - val_loss: 0.1335 - val_mean_squared_error: 0.1308\n",
      "Epoch 59/100\n",
      "3901/3901 [==============================] - 1s 141us/sample - loss: 0.1264 - mean_squared_error: 0.1263 - val_loss: 0.1358 - val_mean_squared_error: 0.1328\n",
      "Epoch 60/100\n",
      "3901/3901 [==============================] - 0s 122us/sample - loss: 0.1273 - mean_squared_error: 0.1272 - val_loss: 0.1325 - val_mean_squared_error: 0.1297\n",
      "Epoch 61/100\n",
      "3901/3901 [==============================] - 1s 129us/sample - loss: 0.1266 - mean_squared_error: 0.1267 - val_loss: 0.1429 - val_mean_squared_error: 0.1405\n",
      "Epoch 62/100\n",
      "3901/3901 [==============================] - 1s 136us/sample - loss: 0.1303 - mean_squared_error: 0.1303 - val_loss: 0.1330 - val_mean_squared_error: 0.1303\n",
      "Epoch 63/100\n",
      "3901/3901 [==============================] - 1s 133us/sample - loss: 0.1277 - mean_squared_error: 0.1277 - val_loss: 0.1400 - val_mean_squared_error: 0.1376\n",
      "Epoch 64/100\n",
      "3901/3901 [==============================] - 1s 158us/sample - loss: 0.1305 - mean_squared_error: 0.1304 - val_loss: 0.1341 - val_mean_squared_error: 0.1312\n",
      "Epoch 65/100\n",
      "3901/3901 [==============================] - 1s 139us/sample - loss: 0.1287 - mean_squared_error: 0.1287 - val_loss: 0.1325 - val_mean_squared_error: 0.1298\n",
      "Epoch 66/100\n",
      "3901/3901 [==============================] - 1s 129us/sample - loss: 0.1334 - mean_squared_error: 0.1334 - val_loss: 0.1350 - val_mean_squared_error: 0.1321\n",
      "Epoch 67/100\n",
      "3901/3901 [==============================] - 0s 124us/sample - loss: 0.1257 - mean_squared_error: 0.1257 - val_loss: 0.1389 - val_mean_squared_error: 0.1360\n",
      "Epoch 68/100\n",
      "3901/3901 [==============================] - 0s 120us/sample - loss: 0.1319 - mean_squared_error: 0.1319 - val_loss: 0.1340 - val_mean_squared_error: 0.1312\n",
      "Epoch 69/100\n",
      "3901/3901 [==============================] - 0s 121us/sample - loss: 0.1281 - mean_squared_error: 0.1281 - val_loss: 0.1346 - val_mean_squared_error: 0.1318\n",
      "Epoch 70/100\n",
      "3901/3901 [==============================] - 0s 121us/sample - loss: 0.1264 - mean_squared_error: 0.1264 - val_loss: 0.1358 - val_mean_squared_error: 0.1329\n",
      "Epoch 71/100\n",
      "3901/3901 [==============================] - 0s 121us/sample - loss: 0.1255 - mean_squared_error: 0.1254 - val_loss: 0.1415 - val_mean_squared_error: 0.1385\n",
      "Epoch 72/100\n",
      "3901/3901 [==============================] - 0s 121us/sample - loss: 0.1258 - mean_squared_error: 0.1258 - val_loss: 0.1321 - val_mean_squared_error: 0.1293\n",
      "Epoch 73/100\n",
      "3901/3901 [==============================] - 0s 122us/sample - loss: 0.1292 - mean_squared_error: 0.1292 - val_loss: 0.1355 - val_mean_squared_error: 0.1329\n",
      "Epoch 74/100\n",
      "3901/3901 [==============================] - 0s 122us/sample - loss: 0.1242 - mean_squared_error: 0.1242 - val_loss: 0.1326 - val_mean_squared_error: 0.1299\n",
      "Epoch 75/100\n",
      "3901/3901 [==============================] - 0s 121us/sample - loss: 0.1274 - mean_squared_error: 0.1273 - val_loss: 0.1336 - val_mean_squared_error: 0.1307\n",
      "Epoch 76/100\n",
      "3901/3901 [==============================] - 0s 123us/sample - loss: 0.1259 - mean_squared_error: 0.1259 - val_loss: 0.1326 - val_mean_squared_error: 0.1299\n",
      "Epoch 77/100\n",
      "3901/3901 [==============================] - 0s 125us/sample - loss: 0.1276 - mean_squared_error: 0.1276 - val_loss: 0.1353 - val_mean_squared_error: 0.1324\n",
      "Epoch 78/100\n",
      "3901/3901 [==============================] - 0s 120us/sample - loss: 0.1257 - mean_squared_error: 0.1257 - val_loss: 0.1329 - val_mean_squared_error: 0.1302\n",
      "Epoch 79/100\n",
      "3901/3901 [==============================] - 0s 125us/sample - loss: 0.1267 - mean_squared_error: 0.1267 - val_loss: 0.1395 - val_mean_squared_error: 0.1370\n",
      "Epoch 80/100\n",
      "3901/3901 [==============================] - 0s 123us/sample - loss: 0.1268 - mean_squared_error: 0.1268 - val_loss: 0.1337 - val_mean_squared_error: 0.1309\n",
      "Epoch 81/100\n",
      "3901/3901 [==============================] - 0s 120us/sample - loss: 0.1242 - mean_squared_error: 0.1242 - val_loss: 0.1335 - val_mean_squared_error: 0.1308\n",
      "Epoch 82/100\n",
      "3901/3901 [==============================] - 0s 126us/sample - loss: 0.1259 - mean_squared_error: 0.1258 - val_loss: 0.1374 - val_mean_squared_error: 0.1349\n",
      "Epoch 83/100\n",
      "3901/3901 [==============================] - 1s 129us/sample - loss: 0.1256 - mean_squared_error: 0.1256 - val_loss: 0.1353 - val_mean_squared_error: 0.1327\n",
      "Epoch 84/100\n",
      "3901/3901 [==============================] - 1s 135us/sample - loss: 0.1288 - mean_squared_error: 0.1288 - val_loss: 0.1474 - val_mean_squared_error: 0.1450\n",
      "Epoch 85/100\n",
      "3901/3901 [==============================] - 1s 132us/sample - loss: 0.1280 - mean_squared_error: 0.1280 - val_loss: 0.1344 - val_mean_squared_error: 0.1315\n",
      "Epoch 86/100\n",
      "3901/3901 [==============================] - 1s 134us/sample - loss: 0.1287 - mean_squared_error: 0.1287 - val_loss: 0.1331 - val_mean_squared_error: 0.1304\n",
      "Epoch 87/100\n",
      "3901/3901 [==============================] - 1s 181us/sample - loss: 0.1296 - mean_squared_error: 0.1296 - val_loss: 0.1332 - val_mean_squared_error: 0.1305\n",
      "Epoch 88/100\n",
      "3901/3901 [==============================] - 1s 131us/sample - loss: 0.1248 - mean_squared_error: 0.1248 - val_loss: 0.1340 - val_mean_squared_error: 0.1313\n",
      "Epoch 89/100\n",
      "3901/3901 [==============================] - 1s 136us/sample - loss: 0.1263 - mean_squared_error: 0.1263 - val_loss: 0.1335 - val_mean_squared_error: 0.1306\n",
      "Epoch 90/100\n",
      "3901/3901 [==============================] - 1s 174us/sample - loss: 0.1256 - mean_squared_error: 0.1255 - val_loss: 0.1342 - val_mean_squared_error: 0.1313\n",
      "Epoch 91/100\n",
      "3901/3901 [==============================] - 1s 138us/sample - loss: 0.1252 - mean_squared_error: 0.1251 - val_loss: 0.1334 - val_mean_squared_error: 0.1306\n",
      "Epoch 92/100\n",
      "3901/3901 [==============================] - 1s 137us/sample - loss: 0.1246 - mean_squared_error: 0.1246 - val_loss: 0.1323 - val_mean_squared_error: 0.1295\n",
      "Epoch 93/100\n",
      "3901/3901 [==============================] - 1s 130us/sample - loss: 0.1248 - mean_squared_error: 0.1249 - val_loss: 0.1321 - val_mean_squared_error: 0.1293\n",
      "Epoch 94/100\n",
      "3901/3901 [==============================] - 1s 140us/sample - loss: 0.1246 - mean_squared_error: 0.1245 - val_loss: 0.1337 - val_mean_squared_error: 0.1309\n",
      "Epoch 95/100\n",
      "3901/3901 [==============================] - 1s 167us/sample - loss: 0.1264 - mean_squared_error: 0.1264 - val_loss: 0.1371 - val_mean_squared_error: 0.1341\n",
      "Epoch 96/100\n",
      "3901/3901 [==============================] - 1s 149us/sample - loss: 0.1279 - mean_squared_error: 0.1279 - val_loss: 0.1357 - val_mean_squared_error: 0.1331\n",
      "Epoch 97/100\n",
      "3901/3901 [==============================] - 1s 134us/sample - loss: 0.1243 - mean_squared_error: 0.1243 - val_loss: 0.1325 - val_mean_squared_error: 0.1297\n",
      "Epoch 98/100\n",
      "3901/3901 [==============================] - 1s 136us/sample - loss: 0.1251 - mean_squared_error: 0.1251 - val_loss: 0.1328 - val_mean_squared_error: 0.1301\n",
      "Epoch 99/100\n",
      "3901/3901 [==============================] - 1s 137us/sample - loss: 0.1252 - mean_squared_error: 0.1253 - val_loss: 0.1334 - val_mean_squared_error: 0.1306\n",
      "Epoch 100/100\n",
      "3901/3901 [==============================] - 0s 123us/sample - loss: 0.1266 - mean_squared_error: 0.1265 - val_loss: 0.1326 - val_mean_squared_error: 0.1298\n"
     ]
    }
   ],
   "source": [
    "mse = MeanSquaredError()\n",
    "model.compile(\n",
    "    loss=mse, \n",
    "    optimizer=Adam(learning_rate=learning_rate), \n",
    "    metrics=[mse])\n",
    "\n",
    "history = model.fit(\n",
    "    ntltrain, \n",
    "    poptrain, \n",
    "    epochs=100, \n",
    "    batch_size=32,\n",
    "    validation_split=0.1\n",
    ")"
   ]
  },
  {
   "cell_type": "code",
   "execution_count": 169,
   "metadata": {},
   "outputs": [
    {
     "data": {
      "image/png": "[encoded data removed]",
      "text/plain": [
       "<Figure size 640x480 with 1 Axes>"
      ]
     },
     "metadata": {},
     "output_type": "display_data"
    }
   ],
   "source": [
    "def plot_history(history, key):\n",
    "  plt.plot(history.history[key])\n",
    "  plt.plot(history.history['val_'+key])\n",
    "  plt.xlabel(\"Epochs\")\n",
    "  plt.ylabel(key)\n",
    "  plt.legend([key, 'val_'+key])\n",
    "  plt.show()\n",
    "plot_history(history, 'mean_squared_error')"
   ]
  },
  {
   "cell_type": "code",
   "execution_count": 170,
   "metadata": {},
   "outputs": [
    {
     "name": "stdout",
     "output_type": "stream",
     "text": [
      "WARNING:tensorflow:Falling back from v2 loop because of error: Failed to find data adapter that can handle input: <class 'pandas.core.series.Series'>, <class 'NoneType'>\n"
     ]
    }
   ],
   "source": [
    "poppred = model.predict(ntltest)"
   ]
  },
  {
   "cell_type": "code",
   "execution_count": 171,
   "metadata": {},
   "outputs": [],
   "source": [
    "poptest = np.asarray(poptest).astype('float32')"
   ]
  },
  {
   "cell_type": "code",
   "execution_count": 172,
   "metadata": {},
   "outputs": [],
   "source": [
    "for i in range(1859):\n",
    "    poppred[i][0] = 10**poppred[i][0]\n",
    "    poptest[i] = 10**poptest[i]"
   ]
  },
  {
   "cell_type": "markdown",
   "metadata": {},
   "source": [
    "# Simple Regression\n",
    "\n",
    "Also on log scale."
   ]
  },
  {
   "cell_type": "code",
   "execution_count": 173,
   "metadata": {},
   "outputs": [],
   "source": [
    "from sklearn.linear_model import LinearRegression\n",
    "ntl = Data2011_Log['NTL'].to_numpy().reshape((-1,1))\n",
    "pop = Data2011_Log['POP'].to_numpy()"
   ]
  },
  {
   "cell_type": "code",
   "execution_count": 174,
   "metadata": {},
   "outputs": [
    {
     "name": "stdout",
     "output_type": "stream",
     "text": [
      "coefficient of determination: 0.5150046885217723\n",
      "intercept: 2.3567428418925505\n",
      "slope: [0.67908242]\n"
     ]
    }
   ],
   "source": [
    "model = LinearRegression()\n",
    "model.fit(ntl, pop)\n",
    "r_sq = model.score(ntl, pop)\n",
    "print(f\"coefficient of determination: {r_sq}\")\n",
    "print(f\"intercept: {model.intercept_}\")\n",
    "print(f\"slope: {model.coef_}\")"
   ]
  }
 ],
 "metadata": {
  "kernelspec": {
   "display_name": "Python 3.7.12 ('ML_env')",
   "language": "python",
   "name": "python3"
  },
  "language_info": {
   "codemirror_mode": {
    "name": "ipython",
    "version": 3
   },
   "file_extension": ".py",
   "mimetype": "text/x-python",
   "name": "python",
   "nbconvert_exporter": "python",
   "pygments_lexer": "ipython3",
   "version": "3.7.12"
  },
  "orig_nbformat": 4,
  "vscode": {
   "interpreter": {
    "hash": "e075f35889cf4896b84e6091500e0536ffb720a60a1416c24df33b82d7beac2d"
   }
  }
 },
 "nbformat": 4,
 "nbformat_minor": 2
}
